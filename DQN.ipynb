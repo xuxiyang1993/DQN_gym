{
 "cells": [
  {
   "cell_type": "code",
   "execution_count": 2,
   "metadata": {},
   "outputs": [],
   "source": [
    "%load_ext autoreload\n",
    "%autoreload 2"
   ]
  },
  {
   "cell_type": "code",
   "execution_count": 3,
   "metadata": {},
   "outputs": [],
   "source": [
    "from DQN_Acrobot import *"
   ]
  },
  {
   "cell_type": "code",
   "execution_count": 4,
   "metadata": {},
   "outputs": [
    {
     "name": "stderr",
     "output_type": "stream",
     "text": [
      "[2018-12-05 09:44:03,589] Making new env: Acrobot-v1\n"
     ]
    }
   ],
   "source": [
    "env = gym.make('Acrobot-v1')"
   ]
  },
  {
   "cell_type": "code",
   "execution_count": 45,
   "metadata": {},
   "outputs": [],
   "source": [
    "agent = DQNAgent(env)"
   ]
  },
  {
   "cell_type": "code",
   "execution_count": 6,
   "metadata": {},
   "outputs": [],
   "source": [
    "agent.run_experiment(no_frame=10)"
   ]
  },
  {
   "cell_type": "code",
   "execution_count": 7,
   "metadata": {},
   "outputs": [],
   "source": [
    "mini_batch = random.sample(agent.memory, 4)"
   ]
  },
  {
   "cell_type": "code",
   "execution_count": 8,
   "metadata": {},
   "outputs": [
    {
     "data": {
      "text/plain": [
       "[(array([ 0.99971993, -0.02366567, -0.1843911 ,  0.98285295, -0.58488889,\n",
       "          1.98685641]),\n",
       "  2,\n",
       "  -1.0,\n",
       "  False,\n",
       "  array([ 0.99030392, -0.13891776, -0.49620482,  0.86820549, -0.56372818,\n",
       "          1.35262284])),\n",
       " (array([ 0.89143243, -0.45315364,  0.75884716, -0.65126875,  0.38443077,\n",
       "          0.78803055]),\n",
       "  2,\n",
       "  -1.0,\n",
       "  False,\n",
       "  array([ 0.93375242, -0.35791957,  0.87696999, -0.48054515,  0.63017292,\n",
       "          1.30702429])),\n",
       " (array([ 0.9997901 , -0.02048813,  0.26274699, -0.96486477, -0.35838054,\n",
       "          1.62772492]),\n",
       "  1,\n",
       "  -1.0,\n",
       "  False,\n",
       "  array([ 0.99478597, -0.10198472,  0.62701935, -0.77900368, -0.4610393 ,\n",
       "          2.47976064])),\n",
       " (array([ 0.77325329,  0.63409727,  0.67352457,  0.73916483, -1.19807669,\n",
       "          1.51936766]),\n",
       "  0,\n",
       "  -1.0,\n",
       "  False,\n",
       "  array([ 0.9228288 ,  0.38521033,  0.45958366,  0.88813448, -1.66296548,\n",
       "          1.00594298]))]"
      ]
     },
     "execution_count": 8,
     "metadata": {},
     "output_type": "execute_result"
    }
   ],
   "source": [
    "mini_batch"
   ]
  },
  {
   "cell_type": "code",
   "execution_count": 15,
   "metadata": {},
   "outputs": [
    {
     "data": {
      "text/plain": [
       "False"
      ]
     },
     "execution_count": 15,
     "metadata": {},
     "output_type": "execute_result"
    }
   ],
   "source": [
    "mini_batch[0][3]"
   ]
  },
  {
   "cell_type": "code",
   "execution_count": 11,
   "metadata": {},
   "outputs": [],
   "source": [
    "last_observations = np.array([rep[0] for rep in mini_batch])"
   ]
  },
  {
   "cell_type": "code",
   "execution_count": 12,
   "metadata": {},
   "outputs": [],
   "source": [
    "current_observations = np.array([rep[-1] for rep in mini_batch])"
   ]
  },
  {
   "cell_type": "code",
   "execution_count": 9,
   "metadata": {},
   "outputs": [],
   "source": [
    "agent.load_model('save_model/-1000.0.h5')"
   ]
  },
  {
   "cell_type": "code",
   "execution_count": 15,
   "metadata": {},
   "outputs": [
    {
     "data": {
      "text/plain": [
       "array([[ 0.99971993, -0.02366567, -0.1843911 ,  0.98285295, -0.58488889,\n",
       "         1.98685641],\n",
       "       [ 0.89143243, -0.45315364,  0.75884716, -0.65126875,  0.38443077,\n",
       "         0.78803055],\n",
       "       [ 0.9997901 , -0.02048813,  0.26274699, -0.96486477, -0.35838054,\n",
       "         1.62772492],\n",
       "       [ 0.77325329,  0.63409727,  0.67352457,  0.73916483, -1.19807669,\n",
       "         1.51936766]])"
      ]
     },
     "execution_count": 15,
     "metadata": {},
     "output_type": "execute_result"
    }
   ],
   "source": [
    "last_observations"
   ]
  },
  {
   "cell_type": "code",
   "execution_count": 16,
   "metadata": {},
   "outputs": [
    {
     "data": {
      "text/plain": [
       "array([[ 0.99030392, -0.13891776, -0.49620482,  0.86820549, -0.56372818,\n",
       "         1.35262284],\n",
       "       [ 0.93375242, -0.35791957,  0.87696999, -0.48054515,  0.63017292,\n",
       "         1.30702429],\n",
       "       [ 0.99478597, -0.10198472,  0.62701935, -0.77900368, -0.4610393 ,\n",
       "         2.47976064],\n",
       "       [ 0.9228288 ,  0.38521033,  0.45958366,  0.88813448, -1.66296548,\n",
       "         1.00594298]])"
      ]
     },
     "execution_count": 16,
     "metadata": {},
     "output_type": "execute_result"
    }
   ],
   "source": [
    "current_observations"
   ]
  },
  {
   "cell_type": "code",
   "execution_count": 36,
   "metadata": {},
   "outputs": [
    {
     "data": {
      "text/plain": [
       "array([[-1.0000001, -1.       , -1.0000001],\n",
       "       [-1.0000001, -1.       , -1.0000001],\n",
       "       [-1.0000001, -1.       , -1.0000001],\n",
       "       [-1.0000001, -1.       , -1.0000001]], dtype=float32)"
      ]
     },
     "execution_count": 36,
     "metadata": {},
     "output_type": "execute_result"
    }
   ],
   "source": [
    "target = agent.model.predict(last_observations)\n",
    "target"
   ]
  },
  {
   "cell_type": "code",
   "execution_count": 20,
   "metadata": {},
   "outputs": [
    {
     "data": {
      "text/plain": [
       "array([[-1.0000001, -1.       , -1.0000001],\n",
       "       [-1.0000001, -1.       , -1.0000001],\n",
       "       [-1.0000001, -1.       , -1.0000001],\n",
       "       [-1.0000001, -1.       , -1.0000001]], dtype=float32)"
      ]
     },
     "execution_count": 20,
     "metadata": {},
     "output_type": "execute_result"
    }
   ],
   "source": [
    "next_q_for_action_selection = agent.model.predict(current_observations)\n",
    "next_q_for_action_selection"
   ]
  },
  {
   "cell_type": "code",
   "execution_count": 22,
   "metadata": {},
   "outputs": [
    {
     "data": {
      "text/plain": [
       "array([[-1.0000001, -1.       , -1.0000001],\n",
       "       [-1.0000001, -1.       , -1.0000001],\n",
       "       [-1.0000001, -1.       , -1.0000001],\n",
       "       [-1.0000001, -1.       , -1.0000001]], dtype=float32)"
      ]
     },
     "execution_count": 22,
     "metadata": {},
     "output_type": "execute_result"
    }
   ],
   "source": [
    "next_q = agent.target_model.predict(current_observations)\n",
    "next_q"
   ]
  },
  {
   "cell_type": "code",
   "execution_count": 23,
   "metadata": {},
   "outputs": [
    {
     "data": {
      "text/plain": [
       "1"
      ]
     },
     "execution_count": 23,
     "metadata": {},
     "output_type": "execute_result"
    }
   ],
   "source": [
    "next_action_sel = np.argmax(next_q_for_action_selection[0])\n",
    "next_action_sel"
   ]
  },
  {
   "cell_type": "code",
   "execution_count": 26,
   "metadata": {},
   "outputs": [
    {
     "data": {
      "text/plain": [
       "2"
      ]
     },
     "execution_count": 26,
     "metadata": {},
     "output_type": "execute_result"
    }
   ],
   "source": [
    "current_action = mini_batch[0][1]\n",
    "current_action"
   ]
  },
  {
   "cell_type": "code",
   "execution_count": 28,
   "metadata": {},
   "outputs": [
    {
     "data": {
      "text/plain": [
       "-1.0"
      ]
     },
     "execution_count": 28,
     "metadata": {},
     "output_type": "execute_result"
    }
   ],
   "source": [
    "reward = mini_batch[0][2]\n",
    "reward"
   ]
  },
  {
   "cell_type": "code",
   "execution_count": 29,
   "metadata": {},
   "outputs": [
    {
     "data": {
      "text/plain": [
       "False"
      ]
     },
     "execution_count": 29,
     "metadata": {},
     "output_type": "execute_result"
    }
   ],
   "source": [
    "done = mini_batch[0][3]\n",
    "done"
   ]
  },
  {
   "cell_type": "code",
   "execution_count": 37,
   "metadata": {},
   "outputs": [],
   "source": [
    "target[0][current_action] = reward + (1 - done) * agent.gamma * next_q[0][next_action_sel]"
   ]
  },
  {
   "cell_type": "code",
   "execution_count": 42,
   "metadata": {},
   "outputs": [
    {
     "data": {
      "text/plain": [
       "-1.0"
      ]
     },
     "execution_count": 42,
     "metadata": {},
     "output_type": "execute_result"
    }
   ],
   "source": [
    "next_q[0][1]"
   ]
  },
  {
   "cell_type": "code",
   "execution_count": 43,
   "metadata": {},
   "outputs": [
    {
     "data": {
      "text/plain": [
       "array([[ 0.99971993, -0.02366567, -0.1843911 ,  0.98285295, -0.58488889,\n",
       "         1.98685641],\n",
       "       [ 0.89143243, -0.45315364,  0.75884716, -0.65126875,  0.38443077,\n",
       "         0.78803055],\n",
       "       [ 0.9997901 , -0.02048813,  0.26274699, -0.96486477, -0.35838054,\n",
       "         1.62772492],\n",
       "       [ 0.77325329,  0.63409727,  0.67352457,  0.73916483, -1.19807669,\n",
       "         1.51936766]])"
      ]
     },
     "execution_count": 43,
     "metadata": {},
     "output_type": "execute_result"
    }
   ],
   "source": [
    "last_observations"
   ]
  },
  {
   "cell_type": "code",
   "execution_count": 44,
   "metadata": {},
   "outputs": [
    {
     "data": {
      "text/plain": [
       "array([[-1.0000001, -1.       , -1.99     ],\n",
       "       [-1.0000001, -1.       , -1.0000001],\n",
       "       [-1.0000001, -1.       , -1.0000001],\n",
       "       [-1.0000001, -1.       , -1.0000001]], dtype=float32)"
      ]
     },
     "execution_count": 44,
     "metadata": {},
     "output_type": "execute_result"
    }
   ],
   "source": [
    "target"
   ]
  },
  {
   "cell_type": "code",
   "execution_count": 24,
   "metadata": {},
   "outputs": [
    {
     "data": {
      "text/plain": [
       "array([[-3.539497  , -2.688147  , -0.40856874],\n",
       "       [-2.9589062 , -2.0333192 ,  0.5177854 ],\n",
       "       [-0.5854352 , -0.21609813, -0.85621285],\n",
       "       [-2.514013  , -0.49889636, -1.1855227 ]], dtype=float32)"
      ]
     },
     "execution_count": 24,
     "metadata": {},
     "output_type": "execute_result"
    }
   ],
   "source": [
    "target = agent.model.predict(last_observations)"
   ]
  },
  {
   "cell_type": "code",
   "execution_count": 25,
   "metadata": {},
   "outputs": [],
   "source": [
    "next_q   = agent.target_model.predict(current_observations)"
   ]
  },
  {
   "cell_type": "code",
   "execution_count": 28,
   "metadata": {},
   "outputs": [],
   "source": [
    "next_q_for_action_selection = agent.model.predict(current_observations)"
   ]
  },
  {
   "cell_type": "code",
   "execution_count": 29,
   "metadata": {},
   "outputs": [
    {
     "data": {
      "text/plain": [
       "array([[-3.4271479 , -2.8100157 , -1.0829484 ],\n",
       "       [-4.4287004 , -3.1751976 , -0.63300097],\n",
       "       [-1.6735563 , -0.02429992, -0.87160885],\n",
       "       [-2.6315053 , -0.7889645 , -0.38181722]], dtype=float32)"
      ]
     },
     "execution_count": 29,
     "metadata": {},
     "output_type": "execute_result"
    }
   ],
   "source": [
    "next_q_for_action_selection"
   ]
  },
  {
   "cell_type": "code",
   "execution_count": 32,
   "metadata": {},
   "outputs": [
    {
     "data": {
      "text/plain": [
       "2"
      ]
     },
     "execution_count": 32,
     "metadata": {},
     "output_type": "execute_result"
    }
   ],
   "source": [
    "np.argmax(next_q_for_action_selection[0])"
   ]
  },
  {
   "cell_type": "code",
   "execution_count": null,
   "metadata": {},
   "outputs": [],
   "source": [
    "act_sel = self.model.pred_network.predict(new_observations)"
   ]
  },
  {
   "cell_type": "code",
   "execution_count": 35,
   "metadata": {},
   "outputs": [
    {
     "data": {
      "text/plain": [
       "0"
      ]
     },
     "execution_count": 35,
     "metadata": {},
     "output_type": "execute_result"
    }
   ],
   "source": [
    "False *1"
   ]
  },
  {
   "cell_type": "code",
   "execution_count": 46,
   "metadata": {},
   "outputs": [
    {
     "name": "stdout",
     "output_type": "stream",
     "text": [
      "Model Evaluation Result at 50793\n",
      "Avg Reward in 10 Episodes: -1000.0\n",
      "Avg Time Step Each Episode: 1000.0\n",
      "-------------------------------------------\n",
      "Model Evaluation Result at 100271\n",
      "Avg Reward in 10 Episodes: -1000.0\n",
      "Avg Time Step Each Episode: 1000.0\n",
      "-------------------------------------------\n",
      "Model Evaluation Result at 150080\n",
      "Avg Reward in 10 Episodes: -1000.0\n",
      "Avg Time Step Each Episode: 1000.0\n",
      "-------------------------------------------\n",
      "Model Evaluation Result at 200864\n",
      "Avg Reward in 10 Episodes: -1000.0\n",
      "Avg Time Step Each Episode: 1000.0\n",
      "-------------------------------------------\n",
      "Model Evaluation Result at 250335\n",
      "Avg Reward in 10 Episodes: -1000.0\n",
      "Avg Time Step Each Episode: 1000.0\n",
      "-------------------------------------------\n",
      "Model Evaluation Result at 300788\n",
      "Avg Reward in 10 Episodes: -1000.0\n",
      "Avg Time Step Each Episode: 1000.0\n",
      "-------------------------------------------\n",
      "Model Evaluation Result at 350088\n",
      "Avg Reward in 10 Episodes: -1000.0\n",
      "Avg Time Step Each Episode: 1000.0\n",
      "-------------------------------------------\n",
      "Model Evaluation Result at 400174\n",
      "Avg Reward in 10 Episodes: -1000.0\n",
      "Avg Time Step Each Episode: 1000.0\n",
      "-------------------------------------------\n",
      "Model Evaluation Result at 450906\n",
      "Avg Reward in 10 Episodes: -1000.0\n",
      "Avg Time Step Each Episode: 1000.0\n",
      "-------------------------------------------\n",
      "Model Evaluation Result at 500840\n",
      "Avg Reward in 10 Episodes: -1000.0\n",
      "Avg Time Step Each Episode: 1000.0\n",
      "-------------------------------------------\n",
      "Model Evaluation Result at 550958\n",
      "Avg Reward in 10 Episodes: -1000.0\n",
      "Avg Time Step Each Episode: 1000.0\n",
      "-------------------------------------------\n",
      "Model Evaluation Result at 600284\n",
      "Avg Reward in 10 Episodes: -1000.0\n",
      "Avg Time Step Each Episode: 1000.0\n",
      "-------------------------------------------\n",
      "Model Evaluation Result at 650184\n",
      "Avg Reward in 10 Episodes: -1000.0\n",
      "Avg Time Step Each Episode: 1000.0\n",
      "-------------------------------------------\n",
      "Model Evaluation Result at 700115\n",
      "Avg Reward in 10 Episodes: -1000.0\n",
      "Avg Time Step Each Episode: 1000.0\n",
      "-------------------------------------------\n",
      "Model Evaluation Result at 750016\n",
      "Avg Reward in 10 Episodes: -1000.0\n",
      "Avg Time Step Each Episode: 1000.0\n",
      "-------------------------------------------\n",
      "Model Evaluation Result at 800559\n",
      "Avg Reward in 10 Episodes: -1000.0\n",
      "Avg Time Step Each Episode: 1000.0\n",
      "-------------------------------------------\n",
      "Model Evaluation Result at 850162\n",
      "Avg Reward in 10 Episodes: -902.8\n",
      "Avg Time Step Each Episode: 903.1\n",
      "-------------------------------------------\n",
      "Model Evaluation Result at 900789\n",
      "Avg Reward in 10 Episodes: -1000.0\n",
      "Avg Time Step Each Episode: 1000.0\n",
      "-------------------------------------------\n",
      "Model Evaluation Result at 950610\n",
      "Avg Reward in 10 Episodes: -1000.0\n",
      "Avg Time Step Each Episode: 1000.0\n",
      "-------------------------------------------\n",
      "Model Evaluation Result at 1000167\n",
      "Avg Reward in 10 Episodes: -1000.0\n",
      "Avg Time Step Each Episode: 1000.0\n",
      "-------------------------------------------\n",
      "Model Evaluation Result at 1050012\n",
      "Avg Reward in 10 Episodes: -454.7\n",
      "Avg Time Step Each Episode: 455.7\n",
      "-------------------------------------------\n",
      "Model Evaluation Result at 1100095\n",
      "Avg Reward in 10 Episodes: -1000.0\n",
      "Avg Time Step Each Episode: 1000.0\n",
      "-------------------------------------------\n"
     ]
    },
    {
     "ename": "KeyboardInterrupt",
     "evalue": "",
     "output_type": "error",
     "traceback": [
      "\u001b[1;31m---------------------------------------------------------------------------\u001b[0m",
      "\u001b[1;31mKeyboardInterrupt\u001b[0m                         Traceback (most recent call last)",
      "\u001b[1;32m<ipython-input-46-c9fdde54026e>\u001b[0m in \u001b[0;36m<module>\u001b[1;34m\u001b[0m\n\u001b[1;32m----> 1\u001b[1;33m \u001b[0magent\u001b[0m\u001b[1;33m.\u001b[0m\u001b[0mrun_experiment\u001b[0m\u001b[1;33m(\u001b[0m\u001b[1;33m)\u001b[0m\u001b[1;33m\u001b[0m\u001b[0m\n\u001b[0m",
      "\u001b[1;32m~\\Box Sync\\Document\\Python\\AI\\DQN_gym\\DQN_Acrobot.py\u001b[0m in \u001b[0;36mrun_experiment\u001b[1;34m(self, no_frame)\u001b[0m\n\u001b[0;32m    121\u001b[0m                 \u001b[0mobservation\u001b[0m\u001b[1;33m,\u001b[0m \u001b[0mreward\u001b[0m\u001b[1;33m,\u001b[0m \u001b[0mdone\u001b[0m\u001b[1;33m,\u001b[0m \u001b[0minfo\u001b[0m \u001b[1;33m=\u001b[0m \u001b[0mself\u001b[0m\u001b[1;33m.\u001b[0m\u001b[0menv\u001b[0m\u001b[1;33m.\u001b[0m\u001b[0mstep\u001b[0m\u001b[1;33m(\u001b[0m\u001b[0maction\u001b[0m\u001b[1;33m)\u001b[0m\u001b[1;33m\u001b[0m\u001b[0m\n\u001b[0;32m    122\u001b[0m \u001b[1;33m\u001b[0m\u001b[0m\n\u001b[1;32m--> 123\u001b[1;33m                 \u001b[0mepisode_reward\u001b[0m \u001b[1;33m+=\u001b[0m \u001b[0mreward\u001b[0m\u001b[1;33m\u001b[0m\u001b[0m\n\u001b[0m\u001b[0;32m    124\u001b[0m                 \u001b[0mself\u001b[0m\u001b[1;33m.\u001b[0m\u001b[0msave_experience\u001b[0m\u001b[1;33m(\u001b[0m\u001b[1;33m(\u001b[0m\u001b[0mlast_observation\u001b[0m\u001b[1;33m,\u001b[0m \u001b[0maction\u001b[0m\u001b[1;33m,\u001b[0m \u001b[0mreward\u001b[0m\u001b[1;33m,\u001b[0m \u001b[0mdone\u001b[0m\u001b[1;33m,\u001b[0m \u001b[0mobservation\u001b[0m\u001b[1;33m)\u001b[0m\u001b[1;33m)\u001b[0m\u001b[1;33m\u001b[0m\u001b[0m\n\u001b[0;32m    125\u001b[0m                 \u001b[0mself\u001b[0m\u001b[1;33m.\u001b[0m\u001b[0mtrain\u001b[0m\u001b[1;33m(\u001b[0m\u001b[1;33m)\u001b[0m\u001b[1;33m\u001b[0m\u001b[0m\n",
      "\u001b[1;32m~\\Box Sync\\Document\\Python\\AI\\DQN_gym\\DQN_Acrobot.py\u001b[0m in \u001b[0;36mget_action\u001b[1;34m(self, state, train)\u001b[0m\n\u001b[0;32m     61\u001b[0m         \u001b[1;32melse\u001b[0m\u001b[1;33m:\u001b[0m\u001b[1;33m\u001b[0m\u001b[0m\n\u001b[0;32m     62\u001b[0m             \u001b[0mq_value\u001b[0m \u001b[1;33m=\u001b[0m \u001b[0mself\u001b[0m\u001b[1;33m.\u001b[0m\u001b[0mmodel\u001b[0m\u001b[1;33m.\u001b[0m\u001b[0mpredict\u001b[0m\u001b[1;33m(\u001b[0m\u001b[0mstate\u001b[0m\u001b[1;33m.\u001b[0m\u001b[0mreshape\u001b[0m\u001b[1;33m(\u001b[0m\u001b[1;36m1\u001b[0m\u001b[1;33m,\u001b[0m \u001b[0mself\u001b[0m\u001b[1;33m.\u001b[0m\u001b[0mstate_size\u001b[0m\u001b[1;33m)\u001b[0m\u001b[1;33m)\u001b[0m\u001b[1;33m\u001b[0m\u001b[0m\n\u001b[1;32m---> 63\u001b[1;33m             \u001b[1;32mreturn\u001b[0m \u001b[0mnp\u001b[0m\u001b[1;33m.\u001b[0m\u001b[0margmax\u001b[0m\u001b[1;33m(\u001b[0m\u001b[0mq_value\u001b[0m\u001b[1;33m[\u001b[0m\u001b[1;36m0\u001b[0m\u001b[1;33m]\u001b[0m\u001b[1;33m)\u001b[0m\u001b[1;33m\u001b[0m\u001b[0m\n\u001b[0m\u001b[0;32m     64\u001b[0m \u001b[1;33m\u001b[0m\u001b[0m\n\u001b[0;32m     65\u001b[0m     \u001b[1;32mdef\u001b[0m \u001b[0msave_experience\u001b[0m\u001b[1;33m(\u001b[0m\u001b[0mself\u001b[0m\u001b[1;33m,\u001b[0m \u001b[0mexp\u001b[0m\u001b[1;33m)\u001b[0m\u001b[1;33m:\u001b[0m\u001b[1;33m\u001b[0m\u001b[0m\n",
      "\u001b[1;32mc:\\program files\\python36\\lib\\site-packages\\keras\\engine\\training.py\u001b[0m in \u001b[0;36mpredict\u001b[1;34m(self, x, batch_size, verbose, steps)\u001b[0m\n\u001b[0;32m   1165\u001b[0m                                             \u001b[0mbatch_size\u001b[0m\u001b[1;33m=\u001b[0m\u001b[0mbatch_size\u001b[0m\u001b[1;33m,\u001b[0m\u001b[1;33m\u001b[0m\u001b[0m\n\u001b[0;32m   1166\u001b[0m                                             \u001b[0mverbose\u001b[0m\u001b[1;33m=\u001b[0m\u001b[0mverbose\u001b[0m\u001b[1;33m,\u001b[0m\u001b[1;33m\u001b[0m\u001b[0m\n\u001b[1;32m-> 1167\u001b[1;33m                                             steps=steps)\n\u001b[0m\u001b[0;32m   1168\u001b[0m \u001b[1;33m\u001b[0m\u001b[0m\n\u001b[0;32m   1169\u001b[0m     def train_on_batch(self, x, y,\n",
      "\u001b[1;32mc:\\program files\\python36\\lib\\site-packages\\keras\\engine\\training_arrays.py\u001b[0m in \u001b[0;36mpredict_loop\u001b[1;34m(model, f, ins, batch_size, verbose, steps)\u001b[0m\n\u001b[0;32m    300\u001b[0m                     \u001b[0mouts\u001b[0m\u001b[1;33m.\u001b[0m\u001b[0mappend\u001b[0m\u001b[1;33m(\u001b[0m\u001b[0mnp\u001b[0m\u001b[1;33m.\u001b[0m\u001b[0mzeros\u001b[0m\u001b[1;33m(\u001b[0m\u001b[0mshape\u001b[0m\u001b[1;33m,\u001b[0m \u001b[0mdtype\u001b[0m\u001b[1;33m=\u001b[0m\u001b[0mbatch_out\u001b[0m\u001b[1;33m.\u001b[0m\u001b[0mdtype\u001b[0m\u001b[1;33m)\u001b[0m\u001b[1;33m)\u001b[0m\u001b[1;33m\u001b[0m\u001b[0m\n\u001b[0;32m    301\u001b[0m             \u001b[1;32mfor\u001b[0m \u001b[0mi\u001b[0m\u001b[1;33m,\u001b[0m \u001b[0mbatch_out\u001b[0m \u001b[1;32min\u001b[0m \u001b[0menumerate\u001b[0m\u001b[1;33m(\u001b[0m\u001b[0mbatch_outs\u001b[0m\u001b[1;33m)\u001b[0m\u001b[1;33m:\u001b[0m\u001b[1;33m\u001b[0m\u001b[0m\n\u001b[1;32m--> 302\u001b[1;33m                 \u001b[0mouts\u001b[0m\u001b[1;33m[\u001b[0m\u001b[0mi\u001b[0m\u001b[1;33m]\u001b[0m\u001b[1;33m[\u001b[0m\u001b[0mbatch_start\u001b[0m\u001b[1;33m:\u001b[0m\u001b[0mbatch_end\u001b[0m\u001b[1;33m]\u001b[0m \u001b[1;33m=\u001b[0m \u001b[0mbatch_out\u001b[0m\u001b[1;33m\u001b[0m\u001b[0m\n\u001b[0m\u001b[0;32m    303\u001b[0m             \u001b[1;32mif\u001b[0m \u001b[0mverbose\u001b[0m \u001b[1;33m==\u001b[0m \u001b[1;36m1\u001b[0m\u001b[1;33m:\u001b[0m\u001b[1;33m\u001b[0m\u001b[0m\n\u001b[0;32m    304\u001b[0m                 \u001b[0mprogbar\u001b[0m\u001b[1;33m.\u001b[0m\u001b[0mupdate\u001b[0m\u001b[1;33m(\u001b[0m\u001b[0mbatch_end\u001b[0m\u001b[1;33m)\u001b[0m\u001b[1;33m\u001b[0m\u001b[0m\n",
      "\u001b[1;31mKeyboardInterrupt\u001b[0m: "
     ]
    }
   ],
   "source": [
    "agent.run_experiment()"
   ]
  },
  {
   "cell_type": "code",
   "execution_count": 47,
   "metadata": {},
   "outputs": [],
   "source": [
    "agent = DQNAgent(env)"
   ]
  },
  {
   "cell_type": "code",
   "execution_count": 48,
   "metadata": {},
   "outputs": [],
   "source": [
    "agent.load_model('save_model/-454.h5')"
   ]
  },
  {
   "cell_type": "code",
   "execution_count": null,
   "metadata": {},
   "outputs": [
    {
     "name": "stdout",
     "output_type": "stream",
     "text": [
      "Model Evaluation Result at 50085\n",
      "Avg Reward in 10 Episodes: -263.6\n",
      "Avg Time Step Each Episode: 264.6\n",
      "-------------------------------------------\n"
     ]
    }
   ],
   "source": [
    "agent.run_experiment()"
   ]
  },
  {
   "cell_type": "code",
   "execution_count": null,
   "metadata": {},
   "outputs": [],
   "source": []
  }
 ],
 "metadata": {
  "kernelspec": {
   "display_name": "Python 3",
   "language": "python",
   "name": "python3"
  },
  "language_info": {
   "codemirror_mode": {
    "name": "ipython",
    "version": 3
   },
   "file_extension": ".py",
   "mimetype": "text/x-python",
   "name": "python",
   "nbconvert_exporter": "python",
   "pygments_lexer": "ipython3",
   "version": "3.6.3"
  }
 },
 "nbformat": 4,
 "nbformat_minor": 2
}
